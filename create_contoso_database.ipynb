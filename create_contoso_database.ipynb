{
 "cells": [
  {
   "cell_type": "code",
   "execution_count": 1,
   "metadata": {},
   "outputs": [],
   "source": [
    "import pandas as pd\n",
    "import numpy as np\n",
    "import psycopg2\n",
    "import psycopg2.extras as extras\n",
    "import re"
   ]
  },
  {
   "cell_type": "code",
   "execution_count": 2,
   "metadata": {},
   "outputs": [],
   "source": [
    "df_calendar = pd.read_csv('Contoso/Calendar.csv')\n",
    "df_channel = pd.read_csv('Contoso/Channel.csv')\n",
    "df_geo = pd.read_csv('Contoso/Geography.csv')\n",
    "df_product = pd.read_csv('Contoso/Product.csv', engine='python') #to read strings with double quotes\n",
    "df_product_cat = pd.read_csv('Contoso/ProductCategory.csv')\n",
    "df_product_subcat = pd.read_csv('Contoso/ProductSubcategory.csv')\n",
    "df_promotion = pd.read_csv('Contoso/Promotion.csv')\n",
    "df_sales = pd.read_csv('Contoso/Sales.csv', sep='\\t')\n",
    "df_stores = pd.read_csv('Contoso/Stores.csv')"
   ]
  },
  {
   "cell_type": "markdown",
   "metadata": {},
   "source": [
    "# DB tables creation and filling with info"
   ]
  },
  {
   "cell_type": "markdown",
   "metadata": {},
   "source": [
    "### Connection Master user to query the DB"
   ]
  },
  {
   "cell_type": "code",
   "execution_count": 3,
   "metadata": {},
   "outputs": [],
   "source": [
    "conn = psycopg2.connect(user = \"u3972050qf4sr4\",\n",
    "                            password = \"paeabf277d5b1409f382e5d572959b8593cf5547814ea3c693fedf93aff477fcb\",\n",
    "                            host = \"ec2-18-203-128-102.eu-west-1.compute.amazonaws.com\",\n",
    "                            port = \"5432\",\n",
    "                            database = \"d1e1c0r564nkc9\")"
   ]
  },
  {
   "cell_type": "markdown",
   "metadata": {},
   "source": [
    "## Creation of tables"
   ]
  },
  {
   "cell_type": "markdown",
   "metadata": {},
   "source": [
    "### DROP ALL tables in database (need to run query all tables first). BE CAREFUL"
   ]
  },
  {
   "cell_type": "code",
   "execution_count": 325,
   "metadata": {},
   "outputs": [
    {
     "name": "stdout",
     "output_type": "stream",
     "text": [
      "Tables deleted successfully in PostgreSQL \n"
     ]
    }
   ],
   "source": [
    "# table_schema: This stores whether the table is designated as public or not.\n",
    "# table_name: The name of the table being referenced.\n",
    "s = \"\"\"SELECT table_schema, table_name \n",
    "FROM information_schema.tables \n",
    "WHERE ( table_schema = 'public' ) \n",
    "ORDER BY table_schema, table_name;\"\"\"\n",
    "df_aux = pd.read_sql(s, conn)\n",
    "\n",
    "tables_to_drop = df_aux[df_aux['table_name']!= 'pg_stat_statements'].table_name\n",
    "#cursor = conn.cursor()\n",
    "#cursor.execute(f\"DROP TABLE {','.join(tables_to_drop)};\")\n",
    "#conn.commit()\n",
    "print(\"Tables deleted successfully in PostgreSQL \")"
   ]
  },
  {
   "cell_type": "markdown",
   "metadata": {},
   "source": [
    "### Generate query to create CALENDAR dimension table in star schema"
   ]
  },
  {
   "cell_type": "code",
   "execution_count": 326,
   "metadata": {},
   "outputs": [],
   "source": [
    "# delete parts of the date that give problems\n",
    "df_calendar['DateKey'] = df_calendar['DateKey'].map(lambda x: x[:10])"
   ]
  },
  {
   "cell_type": "code",
   "execution_count": 327,
   "metadata": {},
   "outputs": [],
   "source": [
    "# customer table\n",
    "query_str = \"\"\"DROP TABLE IF EXISTS calendar;\n",
    "CREATE TABLE calendar\n",
    "(DateKey DATE PRIMARY KEY NOT NULL,\n",
    "DateInt INT,\n",
    "MonthName TEXT,\n",
    "DayOfWeekName TEXT,\n",
    "Year INT,\n",
    "QuarterOfYear INT,\n",
    "MonthOfYear INT,\n",
    "DayOfMonth INT\n",
    ")\"\"\"\n",
    "cursor = conn.cursor()\n",
    "cursor.execute(query_str)\n",
    "conn.commit()"
   ]
  },
  {
   "cell_type": "markdown",
   "metadata": {},
   "source": [
    "### Generate query to create CHANNEL dimension table in star schema"
   ]
  },
  {
   "cell_type": "code",
   "execution_count": 328,
   "metadata": {},
   "outputs": [],
   "source": [
    "df_channel.dropna(inplace=True)\n",
    "df_channel.rename(columns={'Channel':'ChannelKey'}, inplace=True)"
   ]
  },
  {
   "cell_type": "code",
   "execution_count": 329,
   "metadata": {},
   "outputs": [],
   "source": [
    "# channel table\n",
    "query_str = \"\"\"DROP TABLE IF EXISTS channel;\n",
    "CREATE TABLE channel\n",
    "(ChannelKey INT PRIMARY KEY NOT NULL,\n",
    "ChannelName TEXT\n",
    ")\"\"\"\n",
    "cursor = conn.cursor()\n",
    "cursor.execute(query_str)\n",
    "conn.commit()"
   ]
  },
  {
   "cell_type": "markdown",
   "metadata": {},
   "source": [
    "### Generate query to create GEOGRAPHY dimension table in star schema"
   ]
  },
  {
   "cell_type": "code",
   "execution_count": 330,
   "metadata": {},
   "outputs": [],
   "source": [
    "df_geo.dropna(inplace=True)"
   ]
  },
  {
   "cell_type": "code",
   "execution_count": 331,
   "metadata": {},
   "outputs": [
    {
     "data": {
      "text/html": [
       "<div>\n",
       "<style scoped>\n",
       "    .dataframe tbody tr th:only-of-type {\n",
       "        vertical-align: middle;\n",
       "    }\n",
       "\n",
       "    .dataframe tbody tr th {\n",
       "        vertical-align: top;\n",
       "    }\n",
       "\n",
       "    .dataframe thead th {\n",
       "        text-align: right;\n",
       "    }\n",
       "</style>\n",
       "<table border=\"1\" class=\"dataframe\">\n",
       "  <thead>\n",
       "    <tr style=\"text-align: right;\">\n",
       "      <th></th>\n",
       "      <th>GeographyKey</th>\n",
       "      <th>GeographyType</th>\n",
       "      <th>ContinentName</th>\n",
       "      <th>RegionCountryName</th>\n",
       "    </tr>\n",
       "  </thead>\n",
       "  <tbody>\n",
       "    <tr>\n",
       "      <th>0</th>\n",
       "      <td>424.0</td>\n",
       "      <td>City</td>\n",
       "      <td>North America</td>\n",
       "      <td>United States</td>\n",
       "    </tr>\n",
       "  </tbody>\n",
       "</table>\n",
       "</div>"
      ],
      "text/plain": [
       "   GeographyKey GeographyType  ContinentName RegionCountryName\n",
       "0         424.0          City  North America     United States"
      ]
     },
     "execution_count": 331,
     "metadata": {},
     "output_type": "execute_result"
    }
   ],
   "source": [
    "df_geo.head(1)"
   ]
  },
  {
   "cell_type": "code",
   "execution_count": 332,
   "metadata": {},
   "outputs": [],
   "source": [
    "# geography table\n",
    "query_str = \"\"\"DROP TABLE IF EXISTS geography;\n",
    "CREATE TABLE geography\n",
    "(GeographyKey INT PRIMARY KEY NOT NULL,\n",
    "GeographyType TEXT,\n",
    "ContinentName TEXT,\n",
    "RegionCountryName TEXT\n",
    ")\"\"\"\n",
    "cursor = conn.cursor()\n",
    "cursor.execute(query_str)\n",
    "conn.commit()"
   ]
  },
  {
   "cell_type": "markdown",
   "metadata": {},
   "source": [
    "### Generate query to create PRODUCT dimension table in star schema"
   ]
  },
  {
   "cell_type": "code",
   "execution_count": 404,
   "metadata": {},
   "outputs": [],
   "source": [
    "df_product.dropna(inplace=True)"
   ]
  },
  {
   "cell_type": "code",
   "execution_count": 405,
   "metadata": {},
   "outputs": [
    {
     "data": {
      "text/html": [
       "<div>\n",
       "<style scoped>\n",
       "    .dataframe tbody tr th:only-of-type {\n",
       "        vertical-align: middle;\n",
       "    }\n",
       "\n",
       "    .dataframe tbody tr th {\n",
       "        vertical-align: top;\n",
       "    }\n",
       "\n",
       "    .dataframe thead th {\n",
       "        text-align: right;\n",
       "    }\n",
       "</style>\n",
       "<table border=\"1\" class=\"dataframe\">\n",
       "  <thead>\n",
       "    <tr style=\"text-align: right;\">\n",
       "      <th></th>\n",
       "      <th>ProductName</th>\n",
       "      <th>ProductDescription</th>\n",
       "      <th>Manufacturer</th>\n",
       "      <th>BrandName</th>\n",
       "      <th>ClassName</th>\n",
       "      <th>UnitCost</th>\n",
       "      <th>UnitPrice</th>\n",
       "      <th>ProductKey</th>\n",
       "      <th>ProductSubcategoryKey</th>\n",
       "    </tr>\n",
       "  </thead>\n",
       "  <tbody>\n",
       "    <tr>\n",
       "      <th>0</th>\n",
       "      <td>Contoso Wireless Laser Mouse E50 Grey</td>\n",
       "      <td>Advanced 2.4 GHz cordless technology makes fre...</td>\n",
       "      <td>Contoso, Ltd</td>\n",
       "      <td>Contoso</td>\n",
       "      <td>Economy</td>\n",
       "      <td>$10.69</td>\n",
       "      <td>$20.96</td>\n",
       "      <td>873.0</td>\n",
       "      <td>22.0</td>\n",
       "    </tr>\n",
       "  </tbody>\n",
       "</table>\n",
       "</div>"
      ],
      "text/plain": [
       "                             ProductName  \\\n",
       "0  Contoso Wireless Laser Mouse E50 Grey   \n",
       "\n",
       "                                  ProductDescription  Manufacturer BrandName  \\\n",
       "0  Advanced 2.4 GHz cordless technology makes fre...  Contoso, Ltd   Contoso   \n",
       "\n",
       "  ClassName UnitCost UnitPrice  ProductKey  ProductSubcategoryKey  \n",
       "0   Economy   $10.69    $20.96       873.0                   22.0  "
      ]
     },
     "execution_count": 405,
     "metadata": {},
     "output_type": "execute_result"
    }
   ],
   "source": [
    "df_product.head(1)"
   ]
  },
  {
   "cell_type": "code",
   "execution_count": 406,
   "metadata": {},
   "outputs": [],
   "source": [
    "# product table\n",
    "query_str = \"\"\"DROP TABLE IF EXISTS product;\n",
    "CREATE TABLE product\n",
    "(ProductKey INT PRIMARY KEY NOT NULL,\n",
    "ProductSubcategoryKey INT,\n",
    "ProductName TEXT,\n",
    "ProductDescription TEXT,\n",
    "Manufacturer TEXT,\n",
    "BrandName TEXT,\n",
    "ClassName TEXT,\n",
    "UnitCost MONEY,\n",
    "UnitPrice MONEY\n",
    ")\"\"\"\n",
    "cursor = conn.cursor()\n",
    "cursor.execute(query_str)\n",
    "conn.commit()"
   ]
  },
  {
   "cell_type": "markdown",
   "metadata": {},
   "source": [
    "### Generate query to create PRODUCT CATEGORY dimension table in star schema"
   ]
  },
  {
   "cell_type": "code",
   "execution_count": 336,
   "metadata": {},
   "outputs": [],
   "source": [
    "df_product_cat.dropna(inplace=True)"
   ]
  },
  {
   "cell_type": "code",
   "execution_count": 337,
   "metadata": {},
   "outputs": [
    {
     "data": {
      "text/html": [
       "<div>\n",
       "<style scoped>\n",
       "    .dataframe tbody tr th:only-of-type {\n",
       "        vertical-align: middle;\n",
       "    }\n",
       "\n",
       "    .dataframe tbody tr th {\n",
       "        vertical-align: top;\n",
       "    }\n",
       "\n",
       "    .dataframe thead th {\n",
       "        text-align: right;\n",
       "    }\n",
       "</style>\n",
       "<table border=\"1\" class=\"dataframe\">\n",
       "  <thead>\n",
       "    <tr style=\"text-align: right;\">\n",
       "      <th></th>\n",
       "      <th>ProductCategoryKey</th>\n",
       "      <th>ProductCategory</th>\n",
       "    </tr>\n",
       "  </thead>\n",
       "  <tbody>\n",
       "    <tr>\n",
       "      <th>0</th>\n",
       "      <td>1.0</td>\n",
       "      <td>Audio</td>\n",
       "    </tr>\n",
       "  </tbody>\n",
       "</table>\n",
       "</div>"
      ],
      "text/plain": [
       "   ProductCategoryKey ProductCategory\n",
       "0                 1.0           Audio"
      ]
     },
     "execution_count": 337,
     "metadata": {},
     "output_type": "execute_result"
    }
   ],
   "source": [
    "df_product_cat.head(1)"
   ]
  },
  {
   "cell_type": "code",
   "execution_count": 338,
   "metadata": {},
   "outputs": [],
   "source": [
    "# product category table\n",
    "query_str = \"\"\"DROP TABLE IF EXISTS product_category;\n",
    "CREATE TABLE product_category\n",
    "(ProductCategoryKey INT PRIMARY KEY NOT NULL,\n",
    "ProductCategory TEXT\n",
    ")\"\"\"\n",
    "cursor = conn.cursor()\n",
    "cursor.execute(query_str)\n",
    "conn.commit()"
   ]
  },
  {
   "cell_type": "markdown",
   "metadata": {},
   "source": [
    "### Generate query to create PRODUCT SUBCATEGORY dimension table in star schema"
   ]
  },
  {
   "cell_type": "code",
   "execution_count": 339,
   "metadata": {},
   "outputs": [],
   "source": [
    "df_product_subcat.dropna(inplace=True)"
   ]
  },
  {
   "cell_type": "code",
   "execution_count": 340,
   "metadata": {},
   "outputs": [
    {
     "data": {
      "text/html": [
       "<div>\n",
       "<style scoped>\n",
       "    .dataframe tbody tr th:only-of-type {\n",
       "        vertical-align: middle;\n",
       "    }\n",
       "\n",
       "    .dataframe tbody tr th {\n",
       "        vertical-align: top;\n",
       "    }\n",
       "\n",
       "    .dataframe thead th {\n",
       "        text-align: right;\n",
       "    }\n",
       "</style>\n",
       "<table border=\"1\" class=\"dataframe\">\n",
       "  <thead>\n",
       "    <tr style=\"text-align: right;\">\n",
       "      <th></th>\n",
       "      <th>ProductSubcategoryKey</th>\n",
       "      <th>ProductSubcategory</th>\n",
       "      <th>ProductCategoryKey</th>\n",
       "    </tr>\n",
       "  </thead>\n",
       "  <tbody>\n",
       "    <tr>\n",
       "      <th>0</th>\n",
       "      <td>42.0</td>\n",
       "      <td>Refrigerators</td>\n",
       "      <td>8.0</td>\n",
       "    </tr>\n",
       "  </tbody>\n",
       "</table>\n",
       "</div>"
      ],
      "text/plain": [
       "   ProductSubcategoryKey ProductSubcategory  ProductCategoryKey\n",
       "0                   42.0      Refrigerators                 8.0"
      ]
     },
     "execution_count": 340,
     "metadata": {},
     "output_type": "execute_result"
    }
   ],
   "source": [
    "df_product_subcat.head(1)"
   ]
  },
  {
   "cell_type": "code",
   "execution_count": 341,
   "metadata": {},
   "outputs": [],
   "source": [
    "# product subcategory table\n",
    "query_str = \"\"\"DROP TABLE IF EXISTS product_subcategory;\n",
    "CREATE TABLE product_subcategory\n",
    "(ProductSubcategoryKey INT PRIMARY KEY NOT NULL,\n",
    "ProductCategoryKey INT,\n",
    "ProductSubcategory TEXT\n",
    ")\"\"\"\n",
    "cursor = conn.cursor()\n",
    "cursor.execute(query_str)\n",
    "conn.commit()"
   ]
  },
  {
   "cell_type": "markdown",
   "metadata": {},
   "source": [
    "### Generate query to create PROMOTION dimension table in star schema"
   ]
  },
  {
   "cell_type": "code",
   "execution_count": 342,
   "metadata": {},
   "outputs": [],
   "source": [
    "df_promotion.dropna(inplace=True)\n",
    "# delete parts of the date that give problems\n",
    "df_promotion['StartDate'] = df_promotion['StartDate'].map(lambda x: x[:10])\n",
    "df_promotion['EndDate'] = df_promotion['EndDate'].map(lambda x: x[:10])"
   ]
  },
  {
   "cell_type": "code",
   "execution_count": 343,
   "metadata": {},
   "outputs": [
    {
     "data": {
      "text/html": [
       "<div>\n",
       "<style scoped>\n",
       "    .dataframe tbody tr th:only-of-type {\n",
       "        vertical-align: middle;\n",
       "    }\n",
       "\n",
       "    .dataframe tbody tr th {\n",
       "        vertical-align: top;\n",
       "    }\n",
       "\n",
       "    .dataframe thead th {\n",
       "        text-align: right;\n",
       "    }\n",
       "</style>\n",
       "<table border=\"1\" class=\"dataframe\">\n",
       "  <thead>\n",
       "    <tr style=\"text-align: right;\">\n",
       "      <th></th>\n",
       "      <th>PromotionKey</th>\n",
       "      <th>PromotionLabel</th>\n",
       "      <th>PromotionName</th>\n",
       "      <th>DiscountPercent</th>\n",
       "      <th>StartDate</th>\n",
       "      <th>EndDate</th>\n",
       "    </tr>\n",
       "  </thead>\n",
       "  <tbody>\n",
       "    <tr>\n",
       "      <th>0</th>\n",
       "      <td>1.0</td>\n",
       "      <td>1.0</td>\n",
       "      <td>No Discount</td>\n",
       "      <td>0.0</td>\n",
       "      <td>01/01/2007</td>\n",
       "      <td>31/12/2014</td>\n",
       "    </tr>\n",
       "  </tbody>\n",
       "</table>\n",
       "</div>"
      ],
      "text/plain": [
       "   PromotionKey  PromotionLabel PromotionName  DiscountPercent   StartDate  \\\n",
       "0           1.0             1.0   No Discount              0.0  01/01/2007   \n",
       "\n",
       "      EndDate  \n",
       "0  31/12/2014  "
      ]
     },
     "execution_count": 343,
     "metadata": {},
     "output_type": "execute_result"
    }
   ],
   "source": [
    "df_promotion.head(1)"
   ]
  },
  {
   "cell_type": "code",
   "execution_count": 344,
   "metadata": {},
   "outputs": [],
   "source": [
    "# promotionms table\n",
    "query_str = \"\"\"DROP TABLE IF EXISTS promotion;\n",
    "CREATE TABLE promotion\n",
    "(PromotionKey INT PRIMARY KEY NOT NULL,\n",
    "PromotionLabel INT,\n",
    "PromotionName TEXT,\n",
    "DiscountPercent REAL,\n",
    "StartDate DATE,\n",
    "EndDate DATE\n",
    ")\"\"\"\n",
    "cursor = conn.cursor()\n",
    "cursor.execute(query_str)\n",
    "conn.commit()"
   ]
  },
  {
   "cell_type": "markdown",
   "metadata": {},
   "source": [
    "### Generate query to create SALES fact table in star schema"
   ]
  },
  {
   "cell_type": "code",
   "execution_count": 345,
   "metadata": {},
   "outputs": [],
   "source": [
    "df_sales.dropna(inplace=True)\n",
    "df_sales.drop(columns=['UnitCost', 'UnitPrice', 'ReturnAmount', 'DiscountAmount', 'TotalCost'], inplace=True)\n",
    "# delete parts of the date that give problems\n",
    "df_sales['DateKey'] = df_sales['DateKey'].map(lambda x: x[:10])\n",
    "df_sales['SalesAmount'] = df_sales['SalesAmount'].map(lambda x: x.replace('.', ''))\n",
    "df_sales.rename(columns={'channelKey':'ChannelKey'}, inplace=True)\n",
    "df_sales.drop('SalesAmount', axis=1, inplace=True)"
   ]
  },
  {
   "cell_type": "code",
   "execution_count": 346,
   "metadata": {},
   "outputs": [],
   "source": [
    "# sales table\n",
    "query_str = \"\"\"DROP TABLE IF EXISTS sales;\n",
    "CREATE TABLE sales\n",
    "(SalesKey INT PRIMARY KEY NOT NULL,\n",
    "DateKey DATE,\n",
    "ChannelKey INT,\n",
    "StoreKey INT,\n",
    "ProductKey INT,\n",
    "PromotionKey INT,\n",
    "SalesQuantity INT,\n",
    "ReturnQuantity INT,\n",
    "DiscountQuantity INT\n",
    ")\"\"\"\n",
    "cursor = conn.cursor()\n",
    "cursor.execute(query_str)\n",
    "conn.commit()"
   ]
  },
  {
   "cell_type": "markdown",
   "metadata": {},
   "source": [
    "### Generate query to create Stores dimension table in star schema"
   ]
  },
  {
   "cell_type": "code",
   "execution_count": 395,
   "metadata": {},
   "outputs": [],
   "source": [
    "df_stores.fillna('Open', inplace=True)"
   ]
  },
  {
   "cell_type": "code",
   "execution_count": 396,
   "metadata": {},
   "outputs": [
    {
     "data": {
      "text/html": [
       "<div>\n",
       "<style scoped>\n",
       "    .dataframe tbody tr th:only-of-type {\n",
       "        vertical-align: middle;\n",
       "    }\n",
       "\n",
       "    .dataframe tbody tr th {\n",
       "        vertical-align: top;\n",
       "    }\n",
       "\n",
       "    .dataframe thead th {\n",
       "        text-align: right;\n",
       "    }\n",
       "</style>\n",
       "<table border=\"1\" class=\"dataframe\">\n",
       "  <thead>\n",
       "    <tr style=\"text-align: right;\">\n",
       "      <th></th>\n",
       "      <th>StoreKey</th>\n",
       "      <th>GeographyKey</th>\n",
       "      <th>StoreType</th>\n",
       "      <th>StoreName</th>\n",
       "      <th>Status</th>\n",
       "      <th>CloseReason</th>\n",
       "      <th>EmployeeCount</th>\n",
       "      <th>SellingAreaSize</th>\n",
       "    </tr>\n",
       "  </thead>\n",
       "  <tbody>\n",
       "    <tr>\n",
       "      <th>0</th>\n",
       "      <td>1</td>\n",
       "      <td>693</td>\n",
       "      <td>Store</td>\n",
       "      <td>Contoso Seattle No.1 Store</td>\n",
       "      <td>On</td>\n",
       "      <td>Open</td>\n",
       "      <td>17</td>\n",
       "      <td>462</td>\n",
       "    </tr>\n",
       "  </tbody>\n",
       "</table>\n",
       "</div>"
      ],
      "text/plain": [
       "   StoreKey  GeographyKey StoreType                   StoreName Status  \\\n",
       "0         1           693     Store  Contoso Seattle No.1 Store     On   \n",
       "\n",
       "  CloseReason  EmployeeCount  SellingAreaSize  \n",
       "0        Open             17              462  "
      ]
     },
     "execution_count": 396,
     "metadata": {},
     "output_type": "execute_result"
    }
   ],
   "source": [
    "df_stores.head(1)"
   ]
  },
  {
   "cell_type": "code",
   "execution_count": 397,
   "metadata": {},
   "outputs": [],
   "source": [
    "# stores table\n",
    "query_str = \"\"\"DROP TABLE IF EXISTS stores;\n",
    "CREATE TABLE stores\n",
    "(StoreKey INT PRIMARY KEY NOT NULL,\n",
    "GeographyKey INT,\n",
    "StoreType TEXT,\n",
    "StoreName TEXT,\n",
    "Status TEXT,\n",
    "CloseReason TEXT,\n",
    "EmployeeCount INT,\n",
    "SellingAreaSize INT\n",
    ")\"\"\"\n",
    "cursor = conn.cursor()\n",
    "cursor.execute(query_str)\n",
    "conn.commit()"
   ]
  },
  {
   "cell_type": "markdown",
   "metadata": {},
   "source": [
    "### Generate query to create REVIEWS from Yelp dimension table in star schema"
   ]
  },
  {
   "cell_type": "markdown",
   "metadata": {},
   "source": [
    "This part uses the file `yelp_reviews_contoso_stores_with_bussiness_id.csv` which is generated by the notebook `process_yelp_business.ipynb` which assigns the id from the stores to the reviews from Yelp"
   ]
  },
  {
   "cell_type": "code",
   "execution_count": 5,
   "metadata": {},
   "outputs": [],
   "source": [
    "df_reviews = pd.read_csv('yelp_reviews_contoso_stores_with_bussiness_id.csv')"
   ]
  },
  {
   "cell_type": "code",
   "execution_count": 8,
   "metadata": {},
   "outputs": [
    {
     "data": {
      "text/html": [
       "<div>\n",
       "<style scoped>\n",
       "    .dataframe tbody tr th:only-of-type {\n",
       "        vertical-align: middle;\n",
       "    }\n",
       "\n",
       "    .dataframe tbody tr th {\n",
       "        vertical-align: top;\n",
       "    }\n",
       "\n",
       "    .dataframe thead th {\n",
       "        text-align: right;\n",
       "    }\n",
       "</style>\n",
       "<table border=\"1\" class=\"dataframe\">\n",
       "  <thead>\n",
       "    <tr style=\"text-align: right;\">\n",
       "      <th></th>\n",
       "      <th>review_id</th>\n",
       "      <th>user_id</th>\n",
       "      <th>business_id</th>\n",
       "      <th>stars</th>\n",
       "      <th>useful</th>\n",
       "      <th>funny</th>\n",
       "      <th>cool</th>\n",
       "      <th>text</th>\n",
       "      <th>date</th>\n",
       "      <th>StoreKey</th>\n",
       "    </tr>\n",
       "  </thead>\n",
       "  <tbody>\n",
       "    <tr>\n",
       "      <th>0</th>\n",
       "      <td>8PuXeGEK1y_y0dry7pt6XQ</td>\n",
       "      <td>9a60KWJRTxHFNRqt4qb7Xw</td>\n",
       "      <td>6QJAT0N9X2dRqAtQyTw7Ag</td>\n",
       "      <td>5</td>\n",
       "      <td>0</td>\n",
       "      <td>0</td>\n",
       "      <td>0</td>\n",
       "      <td>Artie with the business team is awesome. Very ...</td>\n",
       "      <td>2016-07-25 04:50:21</td>\n",
       "      <td>172</td>\n",
       "    </tr>\n",
       "    <tr>\n",
       "      <th>1</th>\n",
       "      <td>XxQ-Md8h9ti_xJ1i7oFCMg</td>\n",
       "      <td>msbNF-OYhHH6FJ_oQy1-cA</td>\n",
       "      <td>6QJAT0N9X2dRqAtQyTw7Ag</td>\n",
       "      <td>4</td>\n",
       "      <td>1</td>\n",
       "      <td>0</td>\n",
       "      <td>0</td>\n",
       "      <td>Customer service is awesome!  Secret is:  Make...</td>\n",
       "      <td>2011-07-28 18:52:43</td>\n",
       "      <td>172</td>\n",
       "    </tr>\n",
       "  </tbody>\n",
       "</table>\n",
       "</div>"
      ],
      "text/plain": [
       "                review_id                 user_id             business_id  \\\n",
       "0  8PuXeGEK1y_y0dry7pt6XQ  9a60KWJRTxHFNRqt4qb7Xw  6QJAT0N9X2dRqAtQyTw7Ag   \n",
       "1  XxQ-Md8h9ti_xJ1i7oFCMg  msbNF-OYhHH6FJ_oQy1-cA  6QJAT0N9X2dRqAtQyTw7Ag   \n",
       "\n",
       "   stars  useful  funny  cool  \\\n",
       "0      5       0      0     0   \n",
       "1      4       1      0     0   \n",
       "\n",
       "                                                text                 date  \\\n",
       "0  Artie with the business team is awesome. Very ...  2016-07-25 04:50:21   \n",
       "1  Customer service is awesome!  Secret is:  Make...  2011-07-28 18:52:43   \n",
       "\n",
       "   StoreKey  \n",
       "0       172  \n",
       "1       172  "
      ]
     },
     "execution_count": 8,
     "metadata": {},
     "output_type": "execute_result"
    }
   ],
   "source": [
    "df_reviews.head(2)"
   ]
  },
  {
   "cell_type": "code",
   "execution_count": 21,
   "metadata": {},
   "outputs": [],
   "source": [
    "# stores table\n",
    "query_str = \"\"\"DROP TABLE IF EXISTS reviews_yelp;\n",
    "CREATE TABLE reviews_yelp\n",
    "(review_id TEXT PRIMARY KEY NOT NULL,\n",
    "user_id TEXT,\n",
    "business_id TEXT,\n",
    "stars INT,\n",
    "useful INT,\n",
    "funny INT,\n",
    "cool INT,\n",
    "text TEXT,\n",
    "date DATE,\n",
    "StoreKey INT\n",
    ")\"\"\"\n",
    "cursor = conn.cursor()\n",
    "cursor.execute(query_str)\n",
    "conn.commit()"
   ]
  },
  {
   "cell_type": "markdown",
   "metadata": {},
   "source": [
    "## Insert of information"
   ]
  },
  {
   "cell_type": "code",
   "execution_count": 11,
   "metadata": {},
   "outputs": [],
   "source": [
    "def execute_values(conn, df, table, date=\"default\"):\n",
    "    \"\"\"\n",
    "    Using psycopg2.extras.execute_values() to insert the dataframe\n",
    "    \"\"\"\n",
    "    # Create a list of tupples from the dataframe values\n",
    "    tuples = [tuple(x) for x in df.to_numpy()]\n",
    "    # Comma-separated dataframe columns\n",
    "    cols = ','.join(list(df.columns))\n",
    "    if date != \"default\":\n",
    "        # SQL quert to execute\n",
    "        query  = \"set DateStyle='ISO, DMY'; INSERT INTO %s(%s) VALUES %%s\" % (table, cols)\n",
    "    else:\n",
    "        query = \"INSERT INTO %s(%s) VALUES %%s\" % (table, cols)\n",
    "    cursor = conn.cursor()\n",
    "    try:\n",
    "        extras.execute_values(cursor, query, tuples)\n",
    "        conn.commit()\n",
    "    except (Exception, psycopg2.DatabaseError) as error:\n",
    "        print(\"Error: %s\" % error)\n",
    "        conn.rollback()\n",
    "        cursor.close()\n",
    "        return 1\n",
    "    print(f\"execute_values table {table} done\")"
   ]
  },
  {
   "cell_type": "code",
   "execution_count": 351,
   "metadata": {},
   "outputs": [
    {
     "name": "stdout",
     "output_type": "stream",
     "text": [
      "execute_values table calendar done\n",
      "execute_values table channel done\n",
      "execute_values table geography done\n",
      "execute_values table product done\n",
      "execute_values table product_category done\n",
      "execute_values table product_subcategory done\n",
      "execute_values table promotion done\n"
     ]
    }
   ],
   "source": [
    "# insert customer data\n",
    "execute_values(conn, df_calendar, 'calendar')\n",
    "execute_values(conn, df_channel, 'channel')\n",
    "execute_values(conn, df_geo, 'geography')\n",
    "execute_values(conn, df_product, 'product')\n",
    "execute_values(conn, df_product_cat, 'product_category')\n",
    "execute_values(conn, df_product_subcat, 'product_subcategory')\n",
    "execute_values(conn, df_promotion, 'promotion')\n",
    "#execute_values(conn, df_sales, 'sales')\n",
    "execute_values(conn, df_stores, 'stores')"
   ]
  },
  {
   "cell_type": "code",
   "execution_count": 22,
   "metadata": {},
   "outputs": [
    {
     "name": "stdout",
     "output_type": "stream",
     "text": [
      "execute_values table reviews_yelp done\n"
     ]
    }
   ],
   "source": [
    "execute_values(conn, df_reviews, 'reviews_yelp')"
   ]
  },
  {
   "cell_type": "code",
   "execution_count": null,
   "metadata": {},
   "outputs": [],
   "source": []
  }
 ],
 "metadata": {
  "kernelspec": {
   "display_name": "contoso_sales",
   "language": "python",
   "name": "contoso_sales"
  },
  "language_info": {
   "codemirror_mode": {
    "name": "ipython",
    "version": 3
   },
   "file_extension": ".py",
   "mimetype": "text/x-python",
   "name": "python",
   "nbconvert_exporter": "python",
   "pygments_lexer": "ipython3",
   "version": "3.8.5"
  }
 },
 "nbformat": 4,
 "nbformat_minor": 4
}
