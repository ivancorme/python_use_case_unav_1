{
 "cells": [
  {
   "cell_type": "code",
   "execution_count": 28,
   "metadata": {},
   "outputs": [],
   "source": [
    "import pandas as pd\n",
    "import random"
   ]
  },
  {
   "cell_type": "code",
   "execution_count": 2,
   "metadata": {},
   "outputs": [],
   "source": [
    "df = pd.read_json('yelp_academic_dataset_business.json', lines=True)\n",
    "df = df[~df['categories'].isnull()]"
   ]
  },
  {
   "cell_type": "code",
   "execution_count": 3,
   "metadata": {},
   "outputs": [],
   "source": [
    "def assign_category(x, i):\n",
    "    try: \n",
    "        return x.split(',')[i]\n",
    "    except:\n",
    "        return ''"
   ]
  },
  {
   "cell_type": "code",
   "execution_count": 4,
   "metadata": {},
   "outputs": [],
   "source": [
    "def check_category(x, words_list):\n",
    "    if any(word in x for word in words_list):\n",
    "        return True\n",
    "    return False"
   ]
  },
  {
   "cell_type": "code",
   "execution_count": 5,
   "metadata": {},
   "outputs": [],
   "source": [
    "l_cat = ['electronics', 'computers', 'Mobile Phones']\n",
    "df['contoso_cat'] = df['categories'].map(lambda x: check_category(x, l_cat))"
   ]
  },
  {
   "cell_type": "code",
   "execution_count": 6,
   "metadata": {},
   "outputs": [],
   "source": [
    "df = df[df.contoso_cat == True]"
   ]
  },
  {
   "cell_type": "code",
   "execution_count": 7,
   "metadata": {},
   "outputs": [],
   "source": [
    "df['categories_0'] = df['categories'].map(lambda x: assign_category(x, 0))\n",
    "df['categories_1'] = df['categories'].map(lambda x: assign_category(x, 1))\n",
    "df['categories_2'] = df['categories'].map(lambda x: assign_category(x, 2))"
   ]
  },
  {
   "cell_type": "code",
   "execution_count": 8,
   "metadata": {},
   "outputs": [],
   "source": [
    "df = df[df['categories_0'].isin(l_cat)\n",
    "       | df['categories_1'].isin(l_cat)\n",
    "       | df['categories_2'].isin(l_cat)]"
   ]
  },
  {
   "cell_type": "code",
   "execution_count": 9,
   "metadata": {},
   "outputs": [],
   "source": [
    "df['business_id'].to_csv('businesses.csv', index=False)"
   ]
  },
  {
   "cell_type": "code",
   "execution_count": 48,
   "metadata": {},
   "outputs": [],
   "source": [
    "df_reviews = pd.read_json('../../../../../../Downloads/yelp_dataset/yelp_academic_dataset_review.json', lines=True, nrows=100)"
   ]
  },
  {
   "cell_type": "markdown",
   "metadata": {},
   "source": [
    "## Join business and reviews"
   ]
  },
  {
   "cell_type": "code",
   "execution_count": 14,
   "metadata": {},
   "outputs": [],
   "source": [
    "df_reviews = pd.read_json('yelp_reviews_contoso_stores.json', lines=True)"
   ]
  },
  {
   "cell_type": "code",
   "execution_count": 19,
   "metadata": {},
   "outputs": [],
   "source": [
    "df_stores = pd.read_csv('Contoso/Stores.csv')\n",
    "df_geo = pd.read_csv('Contoso/Geography.csv')\n",
    "df_stores = df_stores.merge(df_geo)\n",
    "# tiendas de USA\n",
    "df_stores = df_stores[df_stores['RegionCountryName'] ==  'United States']\n",
    "# solo tiendas activas\n",
    "df_stores = df_stores[df_stores['Status'] == 'On']"
   ]
  },
  {
   "cell_type": "code",
   "execution_count": 46,
   "metadata": {
    "scrolled": false
   },
   "outputs": [],
   "source": [
    "# nos quedamos con el numero de stores con review\n",
    "n = df_reviews['business_id'].nunique()\n",
    "# seleccionamos aleatoriamente n stores para asignarles reviews\n",
    "random.seed(2020)\n",
    "stores_index = random.sample(range(0, df_stores.shape[0]), n)\n",
    "# creamos diccionario para añadir column StoreKey a las reviews\n",
    "stores_selected =  df_stores['StoreKey'].iloc[stores_index]\n",
    "l_map_store_reviews = dict(zip(df_reviews['business_id'].unique(), stores_selected))"
   ]
  },
  {
   "cell_type": "code",
   "execution_count": 47,
   "metadata": {},
   "outputs": [],
   "source": [
    "df_reviews['StoreKey'] = df_reviews['business_id'].map(lambda x: l_map_store_reviews[x])"
   ]
  },
  {
   "cell_type": "code",
   "execution_count": 50,
   "metadata": {},
   "outputs": [],
   "source": [
    "df_reviews.to_csv('yelp_reviews_contoso_stores_with_bussiness_id.csv', index=False)"
   ]
  },
  {
   "cell_type": "code",
   "execution_count": null,
   "metadata": {},
   "outputs": [],
   "source": []
  }
 ],
 "metadata": {
  "kernelspec": {
   "display_name": "contoso_sales",
   "language": "python",
   "name": "contoso_sales"
  },
  "language_info": {
   "codemirror_mode": {
    "name": "ipython",
    "version": 3
   },
   "file_extension": ".py",
   "mimetype": "text/x-python",
   "name": "python",
   "nbconvert_exporter": "python",
   "pygments_lexer": "ipython3",
   "version": "3.8.5"
  }
 },
 "nbformat": 4,
 "nbformat_minor": 4
}
